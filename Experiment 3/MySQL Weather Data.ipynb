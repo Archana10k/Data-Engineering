{
 "cells": [
  {
   "metadata": {
    "ExecuteTime": {
     "end_time": "2025-09-25T17:29:43.906994Z",
     "start_time": "2025-09-25T17:29:41.191054Z"
    }
   },
   "cell_type": "code",
   "source": "pip install sqlalchemy",
   "id": "180be351a38a30d4",
   "outputs": [
    {
     "name": "stdout",
     "output_type": "stream",
     "text": [
      "Requirement already satisfied: sqlalchemy in /opt/miniconda3/lib/python3.12/site-packages (1.4.54)\r\n",
      "Note: you may need to restart the kernel to use updated packages.\n"
     ]
    }
   ],
   "execution_count": 6
  },
  {
   "metadata": {
    "ExecuteTime": {
     "end_time": "2025-09-25T17:33:42.289417Z",
     "start_time": "2025-09-25T17:33:42.227179Z"
    }
   },
   "cell_type": "code",
   "source": [
    "import requests\n",
    "from sqlalchemy import create_engine, text\n",
    "from urllib.parse import quote_plus\n",
    "from datetime import date\n",
    "\n",
    "API_KEY = \"0c2ac21044aa8d18cf7e999d70aa6f7f\"\n",
    "CITY = \"London\"\n",
    "\n",
    "USER = \"root\"\n",
    "PASSWORD = \"21298632\"\n",
    "HOST = \"127.0.0.1\"\n",
    "PORT = 3306\n",
    "DB = \"sales_weatherinfo_db\"\n",
    "\n",
    "MYSQL_CONN_STRING = f\"mysql+pymysql://{USER}:{quote_plus(PASSWORD)}@{HOST}:{PORT}/{DB}\"\n",
    "\n",
    "def fetch_weather(api_key, city):\n",
    "    url = \"https://api.openweathermap.org/data/2.5/weather\"\n",
    "    params = {\"q\": city, \"appid\": api_key.strip(), \"units\": \"metric\"}\n",
    "    response = requests.get(url, params=params, timeout=20)\n",
    "    if response.status_code != 200:\n",
    "        try:\n",
    "            print(\"API error:\", response.json())\n",
    "        except Exception:\n",
    "            print(\"API non-JSON response:\", response.text)\n",
    "        response.raise_for_status()\n",
    "    data = response.json()\n",
    "    return {\n",
    "        \"weather_date\": date.today(),\n",
    "        \"city\": city,\n",
    "        \"temp_c\": data[\"main\"][\"temp\"],\n",
    "        \"humidity\": data[\"main\"][\"humidity\"],\n",
    "        \"description\": data[\"weather\"][0][\"description\"],\n",
    "    }\n",
    "\n",
    "def ensure_weather_table(engine):\n",
    "    ddl = \"\"\"\n",
    "    CREATE TABLE IF NOT EXISTS weather (\n",
    "        weather_date DATE NOT NULL,\n",
    "        city VARCHAR(100) NOT NULL,\n",
    "        temp_c DECIMAL(5,2),\n",
    "        humidity INT,\n",
    "        description VARCHAR(255)\n",
    "    );\n",
    "    \"\"\"\n",
    "    with engine.connect() as conn:\n",
    "        conn.execute(text(ddl))\n",
    "        conn.commit()\n",
    "\n",
    "def store_weather_to_db(weather_data, connection_string):\n",
    "    engine = create_engine(connection_string, future=True, pool_pre_ping=True)\n",
    "    ensure_weather_table(engine)\n",
    "    insert_sql = text(\"\"\"\n",
    "    INSERT INTO weather (weather_date, city, temp_c, humidity, description)\n",
    "    VALUES (:weather_date, :city, :temp_c, :humidity, :description)\n",
    "    \"\"\")\n",
    "    with engine.connect() as conn:\n",
    "        conn.execute(insert_sql, weather_data)\n",
    "        conn.commit()\n",
    "    engine.dispose()\n",
    "    print(f\"Weather data for {weather_data['city']} stored successfully in MySQL.\")\n",
    "\n",
    "def main():\n",
    "    weather = fetch_weather(API_KEY, CITY)\n",
    "    store_weather_to_db(weather, MYSQL_CONN_STRING)\n",
    "\n",
    "if __name__ == \"__main__\":\n",
    "    main()"
   ],
   "id": "7be30443212b5aef",
   "outputs": [
    {
     "name": "stdout",
     "output_type": "stream",
     "text": [
      "Weather data for London stored successfully in MySQL.\n"
     ]
    }
   ],
   "execution_count": 5
  }
 ],
 "metadata": {
  "kernelspec": {
   "display_name": "Python 3",
   "language": "python",
   "name": "python3"
  },
  "language_info": {
   "codemirror_mode": {
    "name": "ipython",
    "version": 2
   },
   "file_extension": ".py",
   "mimetype": "text/x-python",
   "name": "python",
   "nbconvert_exporter": "python",
   "pygments_lexer": "ipython2",
   "version": "2.7.6"
  }
 },
 "nbformat": 4,
 "nbformat_minor": 5
}
