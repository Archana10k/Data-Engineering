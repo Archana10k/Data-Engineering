import requests
import psycopg2
from datetime import date
import traceback

# OpenWeather API configuration
API_KEY = "0c2ac21044aa8d18cf7e999d70aa6f7f"
CITY = "London"

# PostgreSQL connection configuration
PG_HOST = "localhost"
PG_PORT = "5432"
PG_DB = "sales_weather2_db"
PG_USER = "postgres"
PG_PASSWORD = "21298632"


def fetch_weather(api_key, city):
    """
    Fetch current weather data for a given city from OpenWeather API.
    """
    url = f"https://api.openweathermap.org/data/2.5/weather?q={city}&appid={api_key}&units=metric"
    response = requests.get(url)
    response.raise_for_status()
    data = response.json()
    return {
        'weather_date': date.today(),
        'city': city,
        'temp_c': data['main']['temp'],
        'humidity': data['main']['humidity'],
        'description': data['weather'][0]['description'],
    }


def store_weather_to_db(weather_data):
    """
    Store weather data into PostgreSQL using psycopg2.
    Creates the table if it doesn't exist.
    """
    create_table_query = """
    CREATE TABLE IF NOT EXISTS weather (
        weather_date DATE,
        city TEXT,
        temp_c REAL,
        humidity INTEGER,
        description TEXT
    );
    """

    insert_query = """
    INSERT INTO weather (weather_date, city, temp_c, humidity, description)
    VALUES (%s, %s, %s, %s, %s);
    """

    try:
        conn = psycopg2.connect(
            host=PG_HOST,
            port=PG_PORT,
            dbname=PG_DB,
            user=PG_USER,
            password=PG_PASSWORD
        )
        cur = conn.cursor()
        cur.execute(create_table_query)  # Create table if not exists
        cur.execute(
            insert_query,
            (
                weather_data['weather_date'],
                weather_data['city'],
                weather_data['temp_c'],
                weather_data['humidity'],
                weather_data['description']
            )
        )
        conn.commit()
        cur.close()
        conn.close()
        print(f"Weather data for {weather_data['city']} stored successfully in PostgreSQL.")
    except Exception:
        print("An error occurred while storing weather data:")
        traceback.print_exc()


def main():
    try:
        weather = fetch_weather(API_KEY, CITY)
        store_weather_to_db(weather)
    except Exception:
        print("An error occurred in main:")
        traceback.print_exc()

if __name__ == "__main__":
    main()
